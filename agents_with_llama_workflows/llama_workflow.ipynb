{
 "cells": [
  {
   "cell_type": "markdown",
   "metadata": {},
   "source": [
    "# Agentic workflow in LLama-index"
   ]
  },
  {
   "cell_type": "markdown",
   "metadata": {},
   "source": [
    "This notebook showcases how to build a travel planner agentic system with llama.\n",
    "\n",
    "Useful materials:\n",
    "- [Tools](https://docs.llamaindex.ai/en/stable/module_guides/deploying/agents/tools/)\n",
    "- [Workflow for a function calling agent](https://docs.llamaindex.ai/en/stable/examples/workflow/function_calling_agent/)"
   ]
  },
  {
   "cell_type": "markdown",
   "metadata": {},
   "source": [
    "## Imports"
   ]
  },
  {
   "cell_type": "code",
   "execution_count": null,
   "metadata": {},
   "outputs": [],
   "source": [
    "import sys\n",
    "from pathlib import Path\n",
    "\n",
    "# Add the /current directory to the system path\n",
    "sys.path.append(str(Path().absolute().parent))"
   ]
  },
  {
   "cell_type": "code",
   "execution_count": null,
   "metadata": {},
   "outputs": [],
   "source": [
    "from api import (\n",
    "    TravelAPI,\n",
    "    DestinationRecommendationRequest,\n",
    "    FlightOfferRequest,\n",
    "    HotelSearchRequest,\n",
    "    HotelSearchByCityRequest,\n",
    ")\n",
    "\n",
    "\n",
    "from llama_index.core.workflow import (\n",
    "    Event,\n",
    "    StartEvent,\n",
    "    StopEvent,\n",
    "    Workflow,\n",
    "    step,\n",
    ")\n",
    "\n",
    "from llama_index.llms.openai import OpenAI\n",
    "\n",
    "from llama_index.core.tools import FunctionTool"
   ]
  },
  {
   "cell_type": "code",
   "execution_count": null,
   "metadata": {},
   "outputs": [],
   "source": [
    "from dotenv import load_dotenv\n",
    "\n",
    "load_dotenv()"
   ]
  },
  {
   "cell_type": "markdown",
   "metadata": {},
   "source": [
    "## Set up the tools that our agents can use"
   ]
  },
  {
   "cell_type": "code",
   "execution_count": null,
   "metadata": {},
   "outputs": [],
   "source": [
    "api = TravelAPI()\n",
    "\n",
    "check_hotel_availability_tool = FunctionTool.from_defaults(\n",
    "    api.check_hotel_availability,\n",
    ")\n",
    "\n",
    "find_flight_offers_tool = FunctionTool.from_defaults(\n",
    "    api.find_flight_offers,\n",
    ")\n",
    "\n",
    "find_hotels_in_city_tool = FunctionTool.from_defaults(\n",
    "    api.find_hotels_in_city,\n",
    ")\n",
    "\n",
    "recommend_destinations_tool = FunctionTool.from_defaults(\n",
    "    api.recommend_destinations,\n",
    ")"
   ]
  },
  {
   "cell_type": "markdown",
   "metadata": {},
   "source": [
    "## Set up the basic agents"
   ]
  },
  {
   "cell_type": "code",
   "execution_count": null,
   "metadata": {},
   "outputs": [],
   "source": []
  }
 ],
 "metadata": {
  "kernelspec": {
   "display_name": "venv",
   "language": "python",
   "name": "python3"
  },
  "language_info": {
   "name": "python",
   "version": "3.10.15"
  }
 },
 "nbformat": 4,
 "nbformat_minor": 2
}
