{
 "cells": [
  {
   "cell_type": "markdown",
   "metadata": {},
   "source": [
    "# Amadeus API test\n",
    "\n",
    "This notebook showcases the functionality we built with the amadeus API.\n",
    "\n",
    "The goal of this notebook is to make it easy to understand how we should interact with the API class."
   ]
  },
  {
   "cell_type": "markdown",
   "metadata": {},
   "source": [
    "## Imports"
   ]
  },
  {
   "cell_type": "code",
   "execution_count": null,
   "metadata": {},
   "outputs": [],
   "source": [
    "from api import (\n",
    "    TravelAPI,\n",
    "    DestinationRecommendationRequest,\n",
    "    FlightOfferRequest,\n",
    "    HotelSearchRequest,\n",
    "    HotelSearchByCityRequest,\n",
    ")\n",
    "\n",
    "from dotenv import load_dotenv\n",
    "\n",
    "load_dotenv()"
   ]
  },
  {
   "cell_type": "markdown",
   "metadata": {},
   "source": [
    "## Create an instance of the class"
   ]
  },
  {
   "cell_type": "code",
   "execution_count": 2,
   "metadata": {},
   "outputs": [],
   "source": [
    "# The class does not need API keys, we have these se in the .env file\n",
    "api = TravelAPI()"
   ]
  },
  {
   "cell_type": "markdown",
   "metadata": {},
   "source": [
    "## Testing the main functionality"
   ]
  },
  {
   "cell_type": "markdown",
   "metadata": {},
   "source": [
    "### Test destination recommendation"
   ]
  },
  {
   "cell_type": "code",
   "execution_count": null,
   "metadata": {},
   "outputs": [],
   "source": [
    "recommendation_request = DestinationRecommendationRequest(\n",
    "    originLocationCode=\"NYC\", departureDate=\"2024-11-01\", maxBudget=500\n",
    ")\n",
    "\n",
    "api.recommend_destinations(recommendation_request)"
   ]
  },
  {
   "cell_type": "markdown",
   "metadata": {},
   "source": [
    "### Test flight booking recommendation"
   ]
  },
  {
   "cell_type": "code",
   "execution_count": null,
   "metadata": {},
   "outputs": [],
   "source": [
    "flight_request = FlightOfferRequest(\n",
    "    originLocationCode=\"JFK\",\n",
    "    destinationLocationCode=\"LAX\",\n",
    "    departureDate=\"2024-10-20\",\n",
    "    number_of_adults=2,\n",
    ")\n",
    "\n",
    "api.find_flight_offers(flight_request)"
   ]
  },
  {
   "cell_type": "markdown",
   "metadata": {},
   "source": [
    "### Test hotel search by city"
   ]
  },
  {
   "cell_type": "code",
   "execution_count": null,
   "metadata": {},
   "outputs": [],
   "source": [
    "hotel_request = HotelSearchByCityRequest(cityCode=\"NYC\")\n",
    "\n",
    "api.find_hotels_in_city(hotel_request)"
   ]
  },
  {
   "cell_type": "markdown",
   "metadata": {},
   "source": [
    "### Test hotel booking recommendation"
   ]
  },
  {
   "cell_type": "code",
   "execution_count": null,
   "metadata": {},
   "outputs": [],
   "source": [
    "hotel_request = HotelSearchRequest(\n",
    "    hotelIds=[\"ALNYC192\", \"ALNYC353\", \"ALNYC647\"],\n",
    "    checkInDate=\"2024-11-01\",\n",
    "    checkOutDate=\"2024-11-05\",\n",
    "    number_of_adults=2\n",
    ")\n",
    "\n",
    "api.check_hotel_availability(hotel_request)"
   ]
  }
 ],
 "metadata": {
  "kernelspec": {
   "display_name": "venv",
   "language": "python",
   "name": "python3"
  },
  "language_info": {
   "codemirror_mode": {
    "name": "ipython",
    "version": 3
   },
   "file_extension": ".py",
   "mimetype": "text/x-python",
   "name": "python",
   "nbconvert_exporter": "python",
   "pygments_lexer": "ipython3",
   "version": "3.10.15"
  }
 },
 "nbformat": 4,
 "nbformat_minor": 2
}
